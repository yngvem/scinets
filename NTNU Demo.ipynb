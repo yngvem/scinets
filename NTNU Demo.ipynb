{
 "cells": [
  {
   "cell_type": "markdown",
   "metadata": {},
   "source": [
    "# Demonstrasjon av dyp læringskode\n",
    "## Yngve Moe\n"
   ]
  },
  {
   "cell_type": "code",
   "execution_count": 1,
   "metadata": {},
   "outputs": [
    {
     "name": "stderr",
     "output_type": "stream",
     "text": [
      "/home/yngve/anaconda3/envs/tf/lib/python3.6/site-packages/h5py/__init__.py:36: FutureWarning: Conversion of the second argument of issubdtype from `float` to `np.floating` is deprecated. In future, it will be treated as `np.float64 == np.dtype(float).type`.\n",
      "  from ._conv import register_converters as _register_converters\n"
     ]
    }
   ],
   "source": [
    "from scinets.utils import NetworkExperiment"
   ]
  },
  {
   "cell_type": "markdown",
   "metadata": {},
   "source": [
    "## First some general experiment parameters"
   ]
  },
  {
   "cell_type": "code",
   "execution_count": 2,
   "metadata": {},
   "outputs": [],
   "source": [
    "experiment_params={\n",
    "    'log_dir': './logs/',\n",
    "    'name': 'ntnu_demo_linear',\n",
    "    'continue_old': False,\n",
    "    'num_steps': 10000\n",
    "}\n"
   ]
  },
  {
   "cell_type": "markdown",
   "metadata": {},
   "source": [
    "## Then we set the dataset parameters"
   ]
  },
  {
   "cell_type": "code",
   "execution_count": 3,
   "metadata": {},
   "outputs": [],
   "source": [
    "dataset_params = {\n",
    "    'data_path': '/home/yngve/dataset_extraction/val_split_2d.h5',\n",
    "    'batch_size': [64, 256, 1],\n",
    "    'train_group': 'train',\n",
    "    'val_group': 'val',\n",
    "    'test_group': 'test'\n",
    "}"
   ]
  },
  {
   "cell_type": "markdown",
   "metadata": {},
   "source": [
    "## Now we define the network architecture\n",
    "Let us use a one layer network (linear classifier)"
   ]
  },
  {
   "cell_type": "code",
   "execution_count": 4,
   "metadata": {},
   "outputs": [],
   "source": [
    "architecture = [\n",
    "    {\n",
    "        'layer': 'conv2d',\n",
    "        'scope': 'conv1',\n",
    "        'out_size': 1,\n",
    "        'k_size': 5,\n",
    "        'batch_norm': True,\n",
    "        'activation': 'linear',\n",
    "    }\n",
    "]"
   ]
  },
  {
   "cell_type": "markdown",
   "metadata": {},
   "source": [
    "## Next, we set the general network parameters"
   ]
  },
  {
   "cell_type": "code",
   "execution_count": 5,
   "metadata": {},
   "outputs": [],
   "source": [
    "model_params = {\n",
    "    'type': 'NeuralNet',\n",
    "    'network_params': {\n",
    "        'loss_function': 'sigmoid_cross_entropy_with_logits',\n",
    "        'loss_kwargs': {},\n",
    "        'architecture': architecture,\n",
    "        'verbose': True,\n",
    "    }\n",
    "}"
   ]
  },
  {
   "cell_type": "markdown",
   "metadata": {},
   "source": [
    "## We set the parameters of the optimisation procedure"
   ]
  },
  {
   "cell_type": "code",
   "execution_count": 6,
   "metadata": {},
   "outputs": [],
   "source": [
    "trainer_params = {\n",
    "        'train_op': 'AdamOptimizer',\n",
    "        'train_op_kwargs': None,\n",
    "        'max_checkpoints': 10,\n",
    "        'save_step': 1000,\n",
    "        'verbose': True\n",
    "    }"
   ]
  },
  {
   "cell_type": "markdown",
   "metadata": {},
   "source": [
    "## The code also supports logging using TensorBoard"
   ]
  },
  {
   "cell_type": "code",
   "execution_count": 7,
   "metadata": {
    "code_folding": []
   },
   "outputs": [],
   "source": [
    "log_params = {\n",
    "    'val_log_frequency': 10,\n",
    "    'evaluator': 'BinaryClassificationEvaluator',\n",
    "    'tb_params': {\n",
    "        'log_dicts': [\n",
    "                {\n",
    "                    'log_name': 'Loss',\n",
    "                    'log_var': 'loss',\n",
    "                    'log_type': 'scalar'\n",
    "                },\n",
    "                {\n",
    "                    'log_name': 'Probability_map',\n",
    "                    'log_var':'probabilities',\n",
    "                    'log_type': 'image',\n",
    "                    'log_kwargs': {'max_outputs':1}\n",
    "                },\n",
    "                {\n",
    "                    'log_name': 'Accuracy',\n",
    "                    'log_var': 'accuracy',\n",
    "                    'log_type': 'scalar'\n",
    "                },\n",
    "                {\n",
    "                    'log_name': 'Dice',\n",
    "                    'log_var': 'dice',\n",
    "                    'log_type': 'scalar'\n",
    "                },\n",
    "                {\n",
    "                    'log_name': 'Dice',\n",
    "                    'log_var': 'dice',\n",
    "                    'log_type': 'histogram',\n",
    "                    'log_kwargs': {'ignore_nan': True}\n",
    "                },\n",
    "                {\n",
    "                    'log_name': 'Mask',\n",
    "                    'log_var': 'true_out',\n",
    "                    'log_type': 'image',\n",
    "                    'log_kwargs': {'max_outputs':1}\n",
    "                },\n",
    "                {\n",
    "                    'log_name': 'CT',\n",
    "                    'log_var': 'input',\n",
    "                    'log_type': 'image',\n",
    "                    'log_kwargs': {'max_outputs': 1,\n",
    "                            'channel': 0}\n",
    "                },\n",
    "                {\n",
    "                    'log_name': 'PET',\n",
    "                    'log_var': 'input',\n",
    "                    'log_type': 'image',\n",
    "                    'log_kwargs': {'max_outputs': 1,\n",
    "                            'channel': 1}\n",
    "                }\n",
    "        ]\n",
    "    }\n",
    "}"
   ]
  },
  {
   "cell_type": "markdown",
   "metadata": {},
   "source": [
    "## Let us now run the experiment"
   ]
  },
  {
   "cell_type": "code",
   "execution_count": 8,
   "metadata": {
    "scrolled": false
   },
   "outputs": [
    {
     "name": "stdout",
     "output_type": "stream",
     "text": [
      "\n",
      "-------------------------Assembling network-------------------------\n",
      "________________Convolutional layer________________\n",
      " Variable_scope: ntnu_demo_linear_01/conv1\n",
      " Kernel size: 5\n",
      " Output filters: 1\n",
      " Strides: 1\n",
      " Dilation rate: 1\n",
      " Padding: SAME\n",
      " Kernel initialisation: He\n",
      " Activation function: linear\n",
      " Kernel regularisation: No regularization.\n",
      " Number of regularizer loss: 0 Use bias: True\n",
      " Use batch normalization: True\n",
      " Input shape: [None, 126, 134, 2]\n",
      " Output shape: [None, 126, 134, 1]\n",
      " Parameter shapes:\n",
      "  : [1]\n",
      "-------------------------Finished assembling-------------------------\n",
      "\n"
     ]
    },
    {
     "ename": "NameError",
     "evalue": "name 'log_dict' is not defined",
     "output_type": "error",
     "traceback": [
      "\u001b[0;31m---------------------------------------------------------------------------\u001b[0m",
      "\u001b[0;31mNameError\u001b[0m                                 Traceback (most recent call last)",
      "\u001b[0;32m<ipython-input-8-c416f492ba05>\u001b[0m in \u001b[0;36m<module>\u001b[0;34m()\u001b[0m\n\u001b[1;32m      4\u001b[0m     \u001b[0mdataset_params\u001b[0m\u001b[0;34m=\u001b[0m\u001b[0mdataset_params\u001b[0m\u001b[0;34m,\u001b[0m\u001b[0;34m\u001b[0m\u001b[0m\n\u001b[1;32m      5\u001b[0m     \u001b[0mtrainer_params\u001b[0m\u001b[0;34m=\u001b[0m\u001b[0mtrainer_params\u001b[0m\u001b[0;34m,\u001b[0m\u001b[0;34m\u001b[0m\u001b[0m\n\u001b[0;32m----> 6\u001b[0;31m     \u001b[0mlog_params\u001b[0m\u001b[0;34m=\u001b[0m\u001b[0mlog_params\u001b[0m\u001b[0;34m\u001b[0m\u001b[0m\n\u001b[0m\u001b[1;32m      7\u001b[0m )\n",
      "\u001b[0;32m~/Dropbox/Skole/Master/Programming/SciNets/scinets/utils/experiment.py\u001b[0m in \u001b[0;36m__init__\u001b[0;34m(self, experiment_params, model_params, dataset_params, trainer_params, log_params)\u001b[0m\n\u001b[1;32m     98\u001b[0m         \u001b[0mself\u001b[0m\u001b[0;34m.\u001b[0m\u001b[0mtrainer\u001b[0m \u001b[0;34m=\u001b[0m \u001b[0mself\u001b[0m\u001b[0;34m.\u001b[0m\u001b[0m_get_trainer\u001b[0m\u001b[0;34m(\u001b[0m\u001b[0mtrainer_params\u001b[0m\u001b[0;34m)\u001b[0m\u001b[0;34m\u001b[0m\u001b[0m\n\u001b[1;32m     99\u001b[0m         \u001b[0mself\u001b[0m\u001b[0;34m.\u001b[0m\u001b[0mevaluator\u001b[0m \u001b[0;34m=\u001b[0m \u001b[0mself\u001b[0m\u001b[0;34m.\u001b[0m\u001b[0m_get_evaluator\u001b[0m\u001b[0;34m(\u001b[0m\u001b[0mlog_params\u001b[0m\u001b[0;34m[\u001b[0m\u001b[0;34m'evaluator'\u001b[0m\u001b[0;34m]\u001b[0m\u001b[0;34m)\u001b[0m\u001b[0;34m\u001b[0m\u001b[0m\n\u001b[0;32m--> 100\u001b[0;31m         \u001b[0mself\u001b[0m\u001b[0;34m.\u001b[0m\u001b[0mtb_logger\u001b[0m \u001b[0;34m=\u001b[0m \u001b[0mself\u001b[0m\u001b[0;34m.\u001b[0m\u001b[0m_get_tensorboard_logger\u001b[0m\u001b[0;34m(\u001b[0m\u001b[0mlog_params\u001b[0m\u001b[0;34m[\u001b[0m\u001b[0;34m'tb_params'\u001b[0m\u001b[0;34m]\u001b[0m\u001b[0;34m)\u001b[0m\u001b[0;34m\u001b[0m\u001b[0m\n\u001b[0m\u001b[1;32m    101\u001b[0m \u001b[0;34m\u001b[0m\u001b[0m\n\u001b[1;32m    102\u001b[0m         \u001b[0mself\u001b[0m\u001b[0;34m.\u001b[0m\u001b[0mtrain\u001b[0m\u001b[0;34m(\u001b[0m\u001b[0mexperiment_params\u001b[0m\u001b[0;34m[\u001b[0m\u001b[0;34m'num_steps'\u001b[0m\u001b[0;34m]\u001b[0m\u001b[0;34m)\u001b[0m\u001b[0;34m\u001b[0m\u001b[0m\n",
      "\u001b[0;32m~/Dropbox/Skole/Master/Programming/SciNets/scinets/utils/experiment.py\u001b[0m in \u001b[0;36m_get_tensorboard_logger\u001b[0;34m(self, tensorboard_params)\u001b[0m\n\u001b[1;32m    164\u001b[0m             \u001b[0mself\u001b[0m\u001b[0;34m.\u001b[0m\u001b[0mevaluator\u001b[0m\u001b[0;34m,\u001b[0m\u001b[0;34m\u001b[0m\u001b[0m\n\u001b[1;32m    165\u001b[0m             \u001b[0mlog_dir\u001b[0m\u001b[0;34m=\u001b[0m\u001b[0mself\u001b[0m\u001b[0;34m.\u001b[0m\u001b[0mlog_dir\u001b[0m\u001b[0;34m,\u001b[0m\u001b[0;34m\u001b[0m\u001b[0m\n\u001b[0;32m--> 166\u001b[0;31m             \u001b[0;34m**\u001b[0m\u001b[0mtensorboard_params\u001b[0m\u001b[0;34m\u001b[0m\u001b[0m\n\u001b[0m\u001b[1;32m    167\u001b[0m         )\n\u001b[1;32m    168\u001b[0m \u001b[0;34m\u001b[0m\u001b[0m\n",
      "\u001b[0;32m~/Dropbox/Skole/Master/Programming/SciNets/scinets/utils/logger.py\u001b[0m in \u001b[0;36m__init__\u001b[0;34m(self, evaluator, log_dicts, train_log_dicts, val_log_dicts, log_dir)\u001b[0m\n\u001b[1;32m    230\u001b[0m \u001b[0;34m\u001b[0m\u001b[0m\n\u001b[1;32m    231\u001b[0m         \u001b[0;32mwith\u001b[0m \u001b[0mtf\u001b[0m\u001b[0;34m.\u001b[0m\u001b[0mname_scope\u001b[0m\u001b[0;34m(\u001b[0m\u001b[0;34m'summaries'\u001b[0m\u001b[0;34m)\u001b[0m\u001b[0;34m:\u001b[0m\u001b[0;34m\u001b[0m\u001b[0m\n\u001b[0;32m--> 232\u001b[0;31m             \u001b[0mself\u001b[0m\u001b[0;34m.\u001b[0m\u001b[0mtrain_summary_op\u001b[0m\u001b[0;34m,\u001b[0m \u001b[0mself\u001b[0m\u001b[0;34m.\u001b[0m\u001b[0mval_summary_op\u001b[0m \u001b[0;34m=\u001b[0m \u001b[0mself\u001b[0m\u001b[0;34m.\u001b[0m\u001b[0m_init_merged_logs\u001b[0m\u001b[0;34m(\u001b[0m\u001b[0;34m)\u001b[0m\u001b[0;34m\u001b[0m\u001b[0m\n\u001b[0m\u001b[1;32m    233\u001b[0m \u001b[0;34m\u001b[0m\u001b[0m\n\u001b[1;32m    234\u001b[0m     \u001b[0;32mdef\u001b[0m \u001b[0m_init_merged_logs\u001b[0m\u001b[0;34m(\u001b[0m\u001b[0mself\u001b[0m\u001b[0;34m)\u001b[0m\u001b[0;34m:\u001b[0m\u001b[0;34m\u001b[0m\u001b[0m\n",
      "\u001b[0;32m~/Dropbox/Skole/Master/Programming/SciNets/scinets/utils/logger.py\u001b[0m in \u001b[0;36m_init_merged_logs\u001b[0;34m(self)\u001b[0m\n\u001b[1;32m    233\u001b[0m \u001b[0;34m\u001b[0m\u001b[0m\n\u001b[1;32m    234\u001b[0m     \u001b[0;32mdef\u001b[0m \u001b[0m_init_merged_logs\u001b[0m\u001b[0;34m(\u001b[0m\u001b[0mself\u001b[0m\u001b[0;34m)\u001b[0m\u001b[0;34m:\u001b[0m\u001b[0;34m\u001b[0m\u001b[0m\n\u001b[0;32m--> 235\u001b[0;31m         \u001b[0mboth_summary_ops\u001b[0m \u001b[0;34m=\u001b[0m \u001b[0mself\u001b[0m\u001b[0;34m.\u001b[0m\u001b[0m_init_logs\u001b[0m\u001b[0;34m(\u001b[0m\u001b[0mself\u001b[0m\u001b[0;34m.\u001b[0m\u001b[0mlog_dicts\u001b[0m\u001b[0;34m)\u001b[0m\u001b[0;34m\u001b[0m\u001b[0m\n\u001b[0m\u001b[1;32m    236\u001b[0m         \u001b[0mtrain_summary_ops\u001b[0m \u001b[0;34m=\u001b[0m \u001b[0mself\u001b[0m\u001b[0;34m.\u001b[0m\u001b[0m_init_logs\u001b[0m\u001b[0;34m(\u001b[0m\u001b[0mself\u001b[0m\u001b[0;34m.\u001b[0m\u001b[0mtrain_log_dicts\u001b[0m\u001b[0;34m)\u001b[0m\u001b[0;34m\u001b[0m\u001b[0m\n\u001b[1;32m    237\u001b[0m         \u001b[0mval_summary_ops\u001b[0m \u001b[0;34m=\u001b[0m \u001b[0mself\u001b[0m\u001b[0;34m.\u001b[0m\u001b[0m_init_logs\u001b[0m\u001b[0;34m(\u001b[0m\u001b[0mself\u001b[0m\u001b[0;34m.\u001b[0m\u001b[0mval_log_dicts\u001b[0m\u001b[0;34m)\u001b[0m\u001b[0;34m\u001b[0m\u001b[0m\n",
      "\u001b[0;32m~/Dropbox/Skole/Master/Programming/SciNets/scinets/utils/logger.py\u001b[0m in \u001b[0;36m_init_logs\u001b[0;34m(self, log_dicts)\u001b[0m\n\u001b[1;32m     84\u001b[0m             \u001b[0mlog_dict\u001b[0m\u001b[0;34m[\u001b[0m\u001b[0;34m'log_var'\u001b[0m\u001b[0;34m]\u001b[0m \u001b[0;34m=\u001b[0m \u001b[0mself\u001b[0m\u001b[0;34m.\u001b[0m\u001b[0m_get_log_var\u001b[0m\u001b[0;34m(\u001b[0m\u001b[0mlog_dict\u001b[0m\u001b[0;34m[\u001b[0m\u001b[0;34m'log_var'\u001b[0m\u001b[0;34m]\u001b[0m\u001b[0;34m)\u001b[0m\u001b[0;34m\u001b[0m\u001b[0m\n\u001b[1;32m     85\u001b[0m             log_list.append(\n\u001b[0;32m---> 86\u001b[0;31m                 \u001b[0mself\u001b[0m\u001b[0;34m.\u001b[0m\u001b[0m_init_log\u001b[0m\u001b[0;34m(\u001b[0m\u001b[0;34m**\u001b[0m\u001b[0mlog_dict\u001b[0m\u001b[0;34m)\u001b[0m\u001b[0;34m\u001b[0m\u001b[0m\n\u001b[0m\u001b[1;32m     87\u001b[0m             )\n\u001b[1;32m     88\u001b[0m         \u001b[0;32mreturn\u001b[0m \u001b[0mlog_list\u001b[0m\u001b[0;34m\u001b[0m\u001b[0m\n",
      "\u001b[0;32m~/Dropbox/Skole/Master/Programming/SciNets/scinets/utils/logger.py\u001b[0m in \u001b[0;36m_init_log\u001b[0;34m(self, log_var, log_type, log_name, log_kwargs)\u001b[0m\n\u001b[1;32m    265\u001b[0m \u001b[0;34m\u001b[0m\u001b[0m\n\u001b[1;32m    266\u001b[0m             )\n\u001b[0;32m--> 267\u001b[0;31m         \u001b[0;32mif\u001b[0m \u001b[0;34m'log_kwargs'\u001b[0m \u001b[0;32mnot\u001b[0m \u001b[0;32min\u001b[0m \u001b[0mlog_dict\u001b[0m\u001b[0;34m:\u001b[0m\u001b[0;34m\u001b[0m\u001b[0m\n\u001b[0m\u001b[1;32m    268\u001b[0m             \u001b[0mlog_dict\u001b[0m\u001b[0;34m[\u001b[0m\u001b[0;34m'log_kwargs'\u001b[0m\u001b[0;34m]\u001b[0m \u001b[0;34m=\u001b[0m \u001b[0;34m{\u001b[0m\u001b[0;34m}\u001b[0m\u001b[0;34m\u001b[0m\u001b[0m\n\u001b[1;32m    269\u001b[0m \u001b[0;34m\u001b[0m\u001b[0m\n",
      "\u001b[0;31mNameError\u001b[0m: name 'log_dict' is not defined"
     ]
    }
   ],
   "source": [
    "experiment = NetworkExperiment(\n",
    "    experiment_params=experiment_params,\n",
    "    model_params=model_params,\n",
    "    dataset_params=dataset_params,\n",
    "    trainer_params=trainer_params,\n",
    "    log_params=log_params\n",
    ")"
   ]
  },
  {
   "cell_type": "markdown",
   "metadata": {},
   "source": [
    "## We can easily train a two-layer CNN"
   ]
  },
  {
   "cell_type": "code",
   "execution_count": 8,
   "metadata": {},
   "outputs": [],
   "source": [
    "experiment_params={\n",
    "    'log_dir': './logs/',\n",
    "    'name': 'ntnu_demo_one_hidden',\n",
    "    'continue_old': False,\n",
    "    'num_steps': 10000\n",
    "}\n",
    "\n",
    "architecture = [\n",
    "    {\n",
    "        'layer': 'conv2d',\n",
    "        'scope': 'conv1',\n",
    "        'out_size': 16,\n",
    "        'k_size': 3,\n",
    "        'batch_norm': True,\n",
    "        'activation': 'relu',\n",
    "    },\n",
    "        {\n",
    "        'layer': 'conv2d',\n",
    "        'scope': 'conv2',\n",
    "        'out_size': 1,\n",
    "        'k_size': 3,\n",
    "        'batch_norm': False,\n",
    "        'activation': 'linear',\n",
    "    }\n",
    "]\n",
    "\n",
    "model_params = {\n",
    "    'type': 'NeuralNet',\n",
    "    'network_params': {\n",
    "        'loss_function': 'sigmoid_cross_entropy_with_logits',\n",
    "        'loss_kwargs': {},\n",
    "        'architecture': architecture,\n",
    "        'verbose': True,\n",
    "    }\n",
    "}"
   ]
  },
  {
   "cell_type": "code",
   "execution_count": null,
   "metadata": {},
   "outputs": [
    {
     "name": "stdout",
     "output_type": "stream",
     "text": [
      "\n",
      "-------------------------Assembling network-------------------------\n",
      "________________Convolutional layer________________\n",
      " Variable_scope: ntnu_demo_one_hidden_00/conv1\n",
      " Kernel size: 3\n",
      " Output filters: 16\n",
      " Strides: 1\n",
      " Dilation rate: 1\n",
      " Padding: SAME\n",
      " Kernel initialisation: He\n",
      " Activation function: relu\n",
      " Kernel regularisation: No regularization.\n",
      " Number of regularizer loss: 0 Use bias: True\n",
      " Use batch normalization: True\n",
      " Input shape: [None, 126, 134, 2]\n",
      " Output shape: [None, 126, 134, 16]\n",
      " Parameter shapes:\n",
      "  : [16]\n",
      "________________Convolutional layer________________\n",
      " Variable_scope: ntnu_demo_one_hidden_00/conv2\n",
      " Kernel size: 3\n",
      " Output filters: 1\n",
      " Strides: 1\n",
      " Dilation rate: 1\n",
      " Padding: SAME\n",
      " Kernel initialisation: He\n",
      " Activation function: linear\n",
      " Kernel regularisation: No regularization.\n",
      " Number of regularizer loss: 0 Use bias: True\n",
      " Use batch normalization: False\n",
      " Input shape: [None, 126, 134, 16]\n",
      " Output shape: [None, 126, 134, 1]\n",
      " Parameter shapes:\n",
      "  : [1]\n",
      "-------------------------Finished assembling-------------------------\n",
      "\n",
      "Saving model\n",
      "Model saved\n",
      "Saving model\n",
      "Model saved\n"
     ]
    }
   ],
   "source": [
    "experiment = NetworkExperiment(\n",
    "    experiment_params=experiment_params,\n",
    "    model_params=model_params,\n",
    "    dataset_params=dataset_params,\n",
    "    trainer_params=trainer_params,\n",
    "    log_params=log_params\n",
    ")"
   ]
  },
  {
   "cell_type": "code",
   "execution_count": null,
   "metadata": {},
   "outputs": [],
   "source": []
  }
 ],
 "metadata": {
  "kernelspec": {
   "display_name": "Python 3",
   "language": "python",
   "name": "python3"
  },
  "language_info": {
   "codemirror_mode": {
    "name": "ipython",
    "version": 3
   },
   "file_extension": ".py",
   "mimetype": "text/x-python",
   "name": "python",
   "nbconvert_exporter": "python",
   "pygments_lexer": "ipython3",
   "version": "3.6.4"
  },
  "toc": {
   "base_numbering": 1,
   "nav_menu": {},
   "number_sections": true,
   "sideBar": true,
   "skip_h1_title": false,
   "title_cell": "Table of Contents",
   "title_sidebar": "Contents",
   "toc_cell": false,
   "toc_position": {},
   "toc_section_display": true,
   "toc_window_display": false
  }
 },
 "nbformat": 4,
 "nbformat_minor": 2
}
